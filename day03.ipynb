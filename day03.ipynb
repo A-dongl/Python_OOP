{
 "cells": [
  {
   "cell_type": "markdown",
   "id": "6a8bd1f9",
   "metadata": {},
   "source": [
    "## Day 03\n",
    "\n",
    "### #2.9 to #3.2 "
   ]
  },
  {
   "cell_type": "code",
   "execution_count": 12,
   "id": "ec5a8e34",
   "metadata": {
    "ExecuteTime": {
     "end_time": "2025-02-19T00:06:24.495995Z",
     "start_time": "2025-02-19T00:06:24.478361Z"
    }
   },
   "outputs": [
    {
     "name": "stdout",
     "output_type": "stream",
     "text": [
      "525000.0\n",
      "Thank you for paying 525000\n"
     ]
    }
   ],
   "source": [
    "def tax_calc(money):\n",
    "    print(money  * 0.35)\n",
    "    \n",
    "def pay_tax(tax):\n",
    "    print(\"Thank you for paying\", tax)\n",
    "    \n",
    "tax_calc(1500000)\n",
    "pay_tax(525000)"
   ]
  },
  {
   "cell_type": "code",
   "execution_count": 14,
   "id": "30e34025",
   "metadata": {
    "ExecuteTime": {
     "end_time": "2025-02-19T00:07:29.372007Z",
     "start_time": "2025-02-19T00:07:29.362492Z"
    },
    "code_folding": []
   },
   "outputs": [
    {
     "name": "stdout",
     "output_type": "stream",
     "text": [
      "Thank you for paying 525000.0\n"
     ]
    }
   ],
   "source": [
    "def tax_calc(money):\n",
    "    return money  * 0.35\n",
    "\n",
    "to_pay = tax_calc(1500000)\n",
    "pay_tax(to_pay)"
   ]
  },
  {
   "cell_type": "code",
   "execution_count": 15,
   "id": "ac863f44",
   "metadata": {
    "ExecuteTime": {
     "end_time": "2025-02-19T00:07:29.855168Z",
     "start_time": "2025-02-19T00:07:29.831035Z"
    }
   },
   "outputs": [
    {
     "name": "stdout",
     "output_type": "stream",
     "text": [
      "Thank you for paying 525000.0\n"
     ]
    }
   ],
   "source": [
    "pay_tax(tax_calc(1500000))"
   ]
  },
  {
   "cell_type": "code",
   "execution_count": 16,
   "id": "4cf70907",
   "metadata": {
    "ExecuteTime": {
     "end_time": "2025-02-19T00:10:14.309569Z",
     "start_time": "2025-02-19T00:10:14.292483Z"
    }
   },
   "outputs": [
    {
     "name": "stdout",
     "output_type": "stream",
     "text": [
      "hello I'm nico, I have 12 years in the earth, brown is my eye color\n"
     ]
    }
   ],
   "source": [
    "my_name = \"nico\"\n",
    "my_age = 12\n",
    "my_color_eyes = \"brown\"\n",
    "\n",
    "print(f\"hello I'm {my_name}, I have {my_age} years in the earth, {my_color_eyes} is my eye color\")"
   ]
  },
  {
   "cell_type": "code",
   "execution_count": 21,
   "id": "442ea59b",
   "metadata": {
    "ExecuteTime": {
     "end_time": "2025-02-19T00:13:49.256047Z",
     "start_time": "2025-02-19T00:13:49.242226Z"
    }
   },
   "outputs": [],
   "source": [
    "def make_juice(fruit):\n",
    "    return f\"{fruit}+juice\"\n",
    "\n",
    "def add_ice(juice):\n",
    "    return f\"{juice}+ice\"\n",
    "\n",
    "def add_sugar(iced_juice):\n",
    "    return f\"{iced_juice}+sugar\""
   ]
  },
  {
   "cell_type": "code",
   "execution_count": 22,
   "id": "25893e38",
   "metadata": {
    "ExecuteTime": {
     "end_time": "2025-02-19T00:14:54.253363Z",
     "start_time": "2025-02-19T00:14:54.234278Z"
    }
   },
   "outputs": [],
   "source": [
    "juice = make_juice(\"apple\")\n",
    "cold_juice = add_ice(juice)\n",
    "perfect_juice = add_sugar(cold_juice)"
   ]
  },
  {
   "cell_type": "code",
   "execution_count": 23,
   "id": "e1d0bc68",
   "metadata": {
    "ExecuteTime": {
     "end_time": "2025-02-19T00:15:09.297470Z",
     "start_time": "2025-02-19T00:15:09.288763Z"
    }
   },
   "outputs": [
    {
     "name": "stdout",
     "output_type": "stream",
     "text": [
      "apple+juice+ice+sugar\n"
     ]
    }
   ],
   "source": [
    "print(perfect_juice)"
   ]
  },
  {
   "cell_type": "code",
   "execution_count": 25,
   "id": "4e3c5608",
   "metadata": {
    "ExecuteTime": {
     "end_time": "2025-02-19T00:21:29.109440Z",
     "start_time": "2025-02-19T00:21:29.101187Z"
    }
   },
   "outputs": [
    {
     "name": "stdout",
     "output_type": "stream",
     "text": [
      "Correct!\n"
     ]
    }
   ],
   "source": [
    "if 10 > 5:\n",
    "    print(\"Correct!\")"
   ]
  },
  {
   "cell_type": "code",
   "execution_count": 30,
   "id": "b3abcfcd",
   "metadata": {
    "ExecuteTime": {
     "end_time": "2025-02-19T00:23:17.145687Z",
     "start_time": "2025-02-19T00:23:17.132589Z"
    }
   },
   "outputs": [
    {
     "name": "stdout",
     "output_type": "stream",
     "text": [
      "True, cuz a is 10\n"
     ]
    }
   ],
   "source": [
    "a = 10\n",
    "\n",
    "if a == 10:\n",
    "    print(f\"True, cuz a is {a}\")"
   ]
  },
  {
   "cell_type": "code",
   "execution_count": 34,
   "id": "81b52162",
   "metadata": {
    "ExecuteTime": {
     "end_time": "2025-02-19T00:24:50.094503Z",
     "start_time": "2025-02-19T00:24:50.083832Z"
    }
   },
   "outputs": [
    {
     "name": "stdout",
     "output_type": "stream",
     "text": [
      "Wrong Password\n"
     ]
    }
   ],
   "source": [
    "pw_correct = False\n",
    "\n",
    "if pw_correct:\n",
    "    print(\"here is your money\")\n",
    "else:\n",
    "    print(\"Wrong Password\")"
   ]
  },
  {
   "cell_type": "markdown",
   "id": "bc88b104",
   "metadata": {},
   "source": [
    "else, elif is optional"
   ]
  },
  {
   "cell_type": "code",
   "execution_count": 37,
   "id": "8933a24f",
   "metadata": {
    "ExecuteTime": {
     "end_time": "2025-02-19T00:26:57.235467Z",
     "start_time": "2025-02-19T00:26:57.225709Z"
    },
    "scrolled": true
   },
   "outputs": [
    {
     "name": "stdout",
     "output_type": "stream",
     "text": [
      "Winner is greater than 10\n"
     ]
    }
   ],
   "source": [
    "winner = 20\n",
    "\n",
    "if winner > 10:\n",
    "    print(\"Winner is greater than 10\")\n",
    "elif winner < 10:\n",
    "    print(\"Winner is less than 10\")\n",
    "else:\n",
    "    print(\"Winner is 10\")"
   ]
  },
  {
   "cell_type": "code",
   "execution_count": 38,
   "id": "86eaf891",
   "metadata": {
    "ExecuteTime": {
     "end_time": "2025-02-19T00:41:10.544830Z",
     "start_time": "2025-02-19T00:41:10.539829Z"
    }
   },
   "outputs": [],
   "source": [
    "monthly_revenue = 5500000\n",
    "monthly_expenses = 2700000\n",
    "tax_credits = 0.01"
   ]
  },
  {
   "cell_type": "code",
   "execution_count": 39,
   "id": "f95e5ab9",
   "metadata": {
    "ExecuteTime": {
     "end_time": "2025-02-19T00:41:11.402410Z",
     "start_time": "2025-02-19T00:41:11.391827Z"
    }
   },
   "outputs": [],
   "source": [
    "def get_yearly_revenue(monthly_revenue):\n",
    "    return monthly_revenue * 12\n",
    "\n",
    "def get_yearly_expenses(monthly_expenses):\n",
    "    return monthly_expenses * 12\n",
    "\n",
    "def get_tax_amount(profit):\n",
    "    if profit > 100000:\n",
    "        return profit * 0.25\n",
    "    else:\n",
    "        return profit * 0.15\n",
    "\n",
    "def apply_tax_credits(tax_amount, tax_credits):\n",
    "    return tax_amount * tax_credits"
   ]
  },
  {
   "cell_type": "code",
   "execution_count": 40,
   "id": "029593a6",
   "metadata": {
    "ExecuteTime": {
     "end_time": "2025-02-19T00:41:12.005731Z",
     "start_time": "2025-02-19T00:41:11.998998Z"
    }
   },
   "outputs": [
    {
     "name": "stdout",
     "output_type": "stream",
     "text": [
      "Your tax bill is: $8316000.0\n"
     ]
    }
   ],
   "source": [
    "yearly_revenue = get_yearly_revenue(monthly_revenue)\n",
    "yearly_expenses = get_yearly_expenses(monthly_expenses)\n",
    "\n",
    "profit = yearly_revenue - yearly_expenses\n",
    "\n",
    "tax_amount = get_tax_amount(profit)\n",
    "\n",
    "final_tax_amount = tax_amount - apply_tax_credits(tax_amount, tax_credits)\n",
    "\n",
    "print(f\"Your tax bill is: ${final_tax_amount}\")"
   ]
  },
  {
   "cell_type": "code",
   "execution_count": null,
   "id": "6966d44e",
   "metadata": {},
   "outputs": [],
   "source": []
  }
 ],
 "metadata": {
  "kernelspec": {
   "display_name": "Python 3 (ipykernel)",
   "language": "python",
   "name": "python3"
  },
  "language_info": {
   "codemirror_mode": {
    "name": "ipython",
    "version": 3
   },
   "file_extension": ".py",
   "mimetype": "text/x-python",
   "name": "python",
   "nbconvert_exporter": "python",
   "pygments_lexer": "ipython3",
   "version": "3.9.13"
  },
  "toc": {
   "base_numbering": 1,
   "nav_menu": {},
   "number_sections": true,
   "sideBar": true,
   "skip_h1_title": false,
   "title_cell": "Table of Contents",
   "title_sidebar": "Contents",
   "toc_cell": false,
   "toc_position": {},
   "toc_section_display": true,
   "toc_window_display": false
  },
  "varInspector": {
   "cols": {
    "lenName": 16,
    "lenType": 16,
    "lenVar": 40
   },
   "kernels_config": {
    "python": {
     "delete_cmd_postfix": "",
     "delete_cmd_prefix": "del ",
     "library": "var_list.py",
     "varRefreshCmd": "print(var_dic_list())"
    },
    "r": {
     "delete_cmd_postfix": ") ",
     "delete_cmd_prefix": "rm(",
     "library": "var_list.r",
     "varRefreshCmd": "cat(var_dic_list()) "
    }
   },
   "types_to_exclude": [
    "module",
    "function",
    "builtin_function_or_method",
    "instance",
    "_Feature"
   ],
   "window_display": false
  }
 },
 "nbformat": 4,
 "nbformat_minor": 5
}
