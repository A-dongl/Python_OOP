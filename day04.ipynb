{
 "cells": [
  {
   "cell_type": "code",
   "execution_count": 12,
   "id": "a081451a",
   "metadata": {
    "ExecuteTime": {
     "end_time": "2025-02-20T00:43:31.141893Z",
     "start_time": "2025-02-20T00:43:28.926973Z"
    }
   },
   "outputs": [
    {
     "name": "stdout",
     "output_type": "stream",
     "text": [
      "How old are you?18\n",
      "<class 'str'>\n"
     ]
    }
   ],
   "source": [
    "age = input(\"How old are you?\")\n",
    "\n",
    "print(type(age))"
   ]
  },
  {
   "cell_type": "code",
   "execution_count": 15,
   "id": "95b92640",
   "metadata": {
    "ExecuteTime": {
     "end_time": "2025-02-20T00:44:29.295945Z",
     "start_time": "2025-02-20T00:44:27.981318Z"
    }
   },
   "outputs": [
    {
     "name": "stdout",
     "output_type": "stream",
     "text": [
      "How old are you? 18\n",
      "You drink beer!\n"
     ]
    }
   ],
   "source": [
    "age = int(input(\"How old are you? \"))\n",
    "\n",
    "if age < 18:\n",
    "    print(\"You can't drink.\")\n",
    "elif 18 <= age and age <= 35:\n",
    "    print(\"You drink beer!\")\n",
    "elif age == 60 or age == 70:\n",
    "    print(\"Birthday party!\")\n",
    "else:\n",
    "    print(\"Go ahead!\")"
   ]
  },
  {
   "cell_type": "code",
   "execution_count": 16,
   "id": "87731c5e",
   "metadata": {
    "ExecuteTime": {
     "end_time": "2025-02-20T00:46:01.841659Z",
     "start_time": "2025-02-20T00:46:01.830193Z"
    }
   },
   "outputs": [
    {
     "data": {
      "text/plain": [
       "True"
      ]
     },
     "execution_count": 16,
     "metadata": {},
     "output_type": "execute_result"
    }
   ],
   "source": [
    "True and True == True\n",
    "False and True == False\n",
    "True and False == False\n",
    "False and False == False \n",
    "\n",
    "False or True == True"
   ]
  },
  {
   "cell_type": "code",
   "execution_count": null,
   "id": "153385c8",
   "metadata": {},
   "outputs": [],
   "source": []
  },
  {
   "cell_type": "code",
   "execution_count": 18,
   "id": "6ca6a858",
   "metadata": {
    "ExecuteTime": {
     "end_time": "2025-02-20T00:48:47.392422Z",
     "start_time": "2025-02-20T00:48:44.772373Z"
    }
   },
   "outputs": [
    {
     "name": "stdout",
     "output_type": "stream",
     "text": [
      "Choose number. 50\n",
      "You won!\n"
     ]
    }
   ],
   "source": [
    "user_choice = int(input(\"Choose number. \"))\n",
    "pc_choice = 50\n",
    "\n",
    "if user_choice == pc_choice:\n",
    "    print(\"You won!\")\n",
    "elif user_choice > pc_choice:\n",
    "    print(\"Lower!\")\n",
    "elif user_choice < pc_choice:\n",
    "    print(\"Higher!\")\n"
   ]
  },
  {
   "cell_type": "code",
   "execution_count": 20,
   "id": "2cec94f4",
   "metadata": {
    "ExecuteTime": {
     "end_time": "2025-02-20T00:53:23.527684Z",
     "start_time": "2025-02-20T00:53:21.497044Z"
    }
   },
   "outputs": [
    {
     "name": "stdout",
     "output_type": "stream",
     "text": [
      "Choose number. 52\n",
      "Lower! Computer chose 20\n"
     ]
    }
   ],
   "source": [
    "# Standard Fuction Library : \"import\"\n",
    "from random import randint\n",
    "\n",
    "user_choice = int(input(\"Choose number: \"))\n",
    "pc_choice = randint(1,50) # imported\n",
    "\n",
    "if user_choice == pc_choice:\n",
    "    print(\"You won!\")\n",
    "elif user_choice > pc_choice:\n",
    "    print(\"Lower! Computer chose\", pc_choice)\n",
    "elif user_choice < pc_choice:\n",
    "    print(\"Higher! Computer chose\", pc_choice)"
   ]
  },
  {
   "cell_type": "code",
   "execution_count": 21,
   "id": "bd665ec0",
   "metadata": {
    "ExecuteTime": {
     "end_time": "2025-02-20T00:55:20.296122Z",
     "start_time": "2025-02-20T00:55:20.285270Z"
    }
   },
   "outputs": [
    {
     "data": {
      "text/plain": [
       "'all of things stop'"
      ]
     },
     "execution_count": 21,
     "metadata": {},
     "output_type": "execute_result"
    }
   ],
   "source": [
    "\"\"\"all of things ignored\"\"\""
   ]
  },
  {
   "cell_type": "code",
   "execution_count": 22,
   "id": "1bd22be7",
   "metadata": {
    "ExecuteTime": {
     "end_time": "2025-02-20T00:55:58.898403Z",
     "start_time": "2025-02-20T00:55:58.889735Z"
    }
   },
   "outputs": [
    {
     "name": "stdout",
     "output_type": "stream",
     "text": [
      "Hi im True\n"
     ]
    }
   ],
   "source": [
    "if True:\n",
    "    print(\"Hi im True\")"
   ]
  },
  {
   "cell_type": "code",
   "execution_count": 24,
   "id": "210fa353",
   "metadata": {
    "ExecuteTime": {
     "end_time": "2025-02-20T00:58:49.408346Z",
     "start_time": "2025-02-20T00:58:49.393123Z"
    }
   },
   "outputs": [
    {
     "name": "stdout",
     "output_type": "stream",
     "text": [
      "I'm running: 0 km\n",
      "I'm running: 1 km\n",
      "I'm running: 2 km\n",
      "I'm running: 3 km\n",
      "I'm running: 4 km\n",
      "I'm running: 5 km\n",
      "I'm running: 6 km\n",
      "I'm running: 7 km\n",
      "I'm running: 8 km\n",
      "I'm running: 9 km\n",
      "I'm running: 10 km\n",
      "I'm running: 11 km\n",
      "I'm running: 12 km\n",
      "I'm running: 13 km\n",
      "I'm running: 14 km\n",
      "I'm running: 15 km\n",
      "I'm running: 16 km\n",
      "I'm running: 17 km\n",
      "I'm running: 18 km\n",
      "I'm running: 19 km\n"
     ]
    }
   ],
   "source": [
    "#  if \"while\" is True -> running\n",
    "distance = 0\n",
    "while distance < 20:\n",
    "    print(\"I'm running:\", distance, \"km\")\n",
    "    distance = distance + 1"
   ]
  },
  {
   "cell_type": "code",
   "execution_count": 26,
   "id": "634aeb69",
   "metadata": {
    "ExecuteTime": {
     "end_time": "2025-02-20T01:03:54.102858Z",
     "start_time": "2025-02-20T01:02:57.860810Z"
    }
   },
   "outputs": [
    {
     "name": "stdout",
     "output_type": "stream",
     "text": [
      "Welcom to python Casino\n",
      "Choose number(1-100): 52\n",
      "Higher!\n",
      "Choose number(1-100): 11\n",
      "Higher!\n",
      "Choose number(1-100): 8\n",
      "Higher!\n",
      "Choose number(1-100): 4\n",
      "Higher!\n",
      "Choose number(1-100): 1\n",
      "Higher!\n",
      "Choose number(1-100): 0\n",
      "Higher!\n",
      "Choose number(1-100): 80\n",
      "Lower!\n",
      "Choose number(1-100): 64\n",
      "Higher!\n",
      "Choose number(1-100): 72\n",
      "Lower!\n",
      "Choose number(1-100): 70\n",
      "Lower!\n",
      "Choose number(1-100): 68\n",
      "Lower!\n",
      "Choose number(1-100): 65\n",
      "Higher!\n",
      "Choose number(1-100): 66\n",
      "Higher!\n",
      "Choose number(1-100): 67\n",
      "You won!\n"
     ]
    }
   ],
   "source": [
    "from random import randint\n",
    "\n",
    "print(\"Welcom to python Casino\")\n",
    "pc_choice = randint(1,100)\n",
    "\n",
    "playing = True\n",
    "\n",
    "while playing:\n",
    "    user_choice = int(input(\"Choose number(1-100): \"))\n",
    "    if user_choice == pc_choice:\n",
    "        print(\"You won!\")\n",
    "        playing = False\n",
    "    elif user_choice > pc_choice:\n",
    "        print(\"Lower!\")\n",
    "    elif user_choice < pc_choice:\n",
    "        print(\"Higher!\")\n",
    "        "
   ]
  },
  {
   "cell_type": "code",
   "execution_count": null,
   "id": "16e89788",
   "metadata": {},
   "outputs": [],
   "source": [
    "print(\"Welcom to python Casino\")\n",
    "pc_choice = randint(1,100)\n",
    "\n",
    "playing = True\n",
    "\n",
    "while playing:\n",
    "    user_choice = int(input(\"Choose number(1-100): \"))\n",
    "    if user_choice == pc_choice:\n",
    "        print(\"You won!\")\n",
    "        playing = False\n",
    "    elif user_choice > pc_choice:\n",
    "        print(\"Lower!\")\n",
    "    elif user_choice < pc_choice:\n",
    "        print(\"Higher!\")"
   ]
  },
  {
   "cell_type": "code",
   "execution_count": 3,
   "id": "b22bff3b",
   "metadata": {
    "ExecuteTime": {
     "end_time": "2025-02-20T01:21:54.001697Z",
     "start_time": "2025-02-20T01:21:28.317388Z"
    }
   },
   "outputs": [
    {
     "name": "stdout",
     "output_type": "stream",
     "text": [
      "Choose a number:\n",
      "15\n",
      "Choose another one:\n",
      "15\n",
      "Choose an operation:\n",
      "    Options are: + , -, * or /.\n",
      "    Write 'Exit' to finish.\n",
      "-\n",
      "Result:  0\n",
      "Choose a number:\n",
      "15\n",
      "Choose another one:\n",
      "15\n",
      "Choose an operation:\n",
      "    Options are: + , -, * or /.\n",
      "    Write 'Exit' to finish.\n",
      "+\n",
      "Result:  30\n",
      "Choose a number:\n",
      "15\n",
      "Choose another one:\n",
      "15\n",
      "Choose an operation:\n",
      "    Options are: + , -, * or /.\n",
      "    Write 'Exit' to finish.\n",
      "*\n",
      "Result:  225\n",
      "Choose a number:\n",
      "15\n",
      "Choose another one:\n",
      "15\n",
      "Choose an operation:\n",
      "    Options are: + , -, * or /.\n",
      "    Write 'Exit' to finish.\n",
      "/\n",
      "Result:  225\n",
      "Choose a number:\n",
      "Exit\n"
     ]
    },
    {
     "ename": "ValueError",
     "evalue": "invalid literal for int() with base 10: 'Exit'",
     "output_type": "error",
     "traceback": [
      "\u001b[1;31m---------------------------------------------------------------------------\u001b[0m",
      "\u001b[1;31mValueError\u001b[0m                                Traceback (most recent call last)",
      "Input \u001b[1;32mIn [3]\u001b[0m, in \u001b[0;36m<cell line: 3>\u001b[1;34m()\u001b[0m\n\u001b[0;32m      1\u001b[0m running \u001b[38;5;241m=\u001b[39m \u001b[38;5;28;01mTrue\u001b[39;00m\n\u001b[0;32m      3\u001b[0m \u001b[38;5;28;01mwhile\u001b[39;00m running:\n\u001b[1;32m----> 4\u001b[0m     first_choice \u001b[38;5;241m=\u001b[39m \u001b[38;5;28;43mint\u001b[39;49m\u001b[43m(\u001b[49m\u001b[38;5;28;43minput\u001b[39;49m\u001b[43m(\u001b[49m\u001b[38;5;124;43m\"\u001b[39;49m\u001b[38;5;124;43mChoose a number:\u001b[39;49m\u001b[38;5;130;43;01m\\n\u001b[39;49;00m\u001b[38;5;124;43m\"\u001b[39;49m\u001b[43m)\u001b[49m\u001b[43m)\u001b[49m\n\u001b[0;32m      5\u001b[0m     Second_choice \u001b[38;5;241m=\u001b[39m \u001b[38;5;28mint\u001b[39m(\u001b[38;5;28minput\u001b[39m(\u001b[38;5;124m\"\u001b[39m\u001b[38;5;124mChoose another one:\u001b[39m\u001b[38;5;130;01m\\n\u001b[39;00m\u001b[38;5;124m\"\u001b[39m))\n\u001b[0;32m      7\u001b[0m     operation \u001b[38;5;241m=\u001b[39m \u001b[38;5;28minput\u001b[39m(\u001b[38;5;124m\"\u001b[39m\u001b[38;5;124mChoose an operation:\u001b[39m\u001b[38;5;130;01m\\n\u001b[39;00m\u001b[38;5;124m    Options are: + , -, * or /.\u001b[39m\u001b[38;5;130;01m\\n\u001b[39;00m\u001b[38;5;124m    Write \u001b[39m\u001b[38;5;124m'\u001b[39m\u001b[38;5;124mExit\u001b[39m\u001b[38;5;124m'\u001b[39m\u001b[38;5;124m to finish.\u001b[39m\u001b[38;5;130;01m\\n\u001b[39;00m\u001b[38;5;124m\"\u001b[39m)\n",
      "\u001b[1;31mValueError\u001b[0m: invalid literal for int() with base 10: 'Exit'"
     ]
    }
   ],
   "source": [
    "running = True\n",
    "\n",
    "while running:\n",
    "    first_choice = int(input(\"Choose a number:\\n\"))\n",
    "    Second_choice = int(input(\"Choose another one:\\n\"))\n",
    "\n",
    "    operation = input(\"Choose an operation:\\n    Options are: + , -, * or /.\\n    Write 'Exit' to finish.\\n\")\n",
    "\n",
    "    if operation  == \"*\":\n",
    "        print(\"Result: \", first_choice * Second_choice)\n",
    "    elif operation  == \"+\":\n",
    "        print(\"Result: \", first_choice + Second_choice)\n",
    "    elif operation  == \"-\":\n",
    "        print(\"Result: \", first_choice - Second_choice)\n",
    "    elif operation  == \"/\":\n",
    "        print(\"Result: \", first_choice * Second_choice)\n",
    "    elif operation == \"Exit\":\n",
    "        running = False\n"
   ]
  },
  {
   "cell_type": "code",
   "execution_count": null,
   "id": "fba32fca",
   "metadata": {},
   "outputs": [],
   "source": []
  }
 ],
 "metadata": {
  "kernelspec": {
   "display_name": "Python 3 (ipykernel)",
   "language": "python",
   "name": "python3"
  },
  "language_info": {
   "codemirror_mode": {
    "name": "ipython",
    "version": 3
   },
   "file_extension": ".py",
   "mimetype": "text/x-python",
   "name": "python",
   "nbconvert_exporter": "python",
   "pygments_lexer": "ipython3",
   "version": "3.9.13"
  },
  "toc": {
   "base_numbering": 1,
   "nav_menu": {},
   "number_sections": true,
   "sideBar": true,
   "skip_h1_title": false,
   "title_cell": "Table of Contents",
   "title_sidebar": "Contents",
   "toc_cell": false,
   "toc_position": {},
   "toc_section_display": true,
   "toc_window_display": false
  },
  "varInspector": {
   "cols": {
    "lenName": 16,
    "lenType": 16,
    "lenVar": 40
   },
   "kernels_config": {
    "python": {
     "delete_cmd_postfix": "",
     "delete_cmd_prefix": "del ",
     "library": "var_list.py",
     "varRefreshCmd": "print(var_dic_list())"
    },
    "r": {
     "delete_cmd_postfix": ") ",
     "delete_cmd_prefix": "rm(",
     "library": "var_list.r",
     "varRefreshCmd": "cat(var_dic_list()) "
    }
   },
   "types_to_exclude": [
    "module",
    "function",
    "builtin_function_or_method",
    "instance",
    "_Feature"
   ],
   "window_display": false
  }
 },
 "nbformat": 4,
 "nbformat_minor": 5
}
