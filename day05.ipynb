{
 "cells": [
  {
   "cell_type": "code",
   "execution_count": null,
   "id": "56383883",
   "metadata": {},
   "outputs": [],
   "source": [
    "# List and Variable Function"
   ]
  },
  {
   "cell_type": "code",
   "execution_count": 1,
   "id": "3b712455",
   "metadata": {
    "ExecuteTime": {
     "end_time": "2025-02-21T03:08:14.836225Z",
     "start_time": "2025-02-21T03:08:14.828573Z"
    }
   },
   "outputs": [
    {
     "name": "stdout",
     "output_type": "stream",
     "text": [
      "Mon,Tue,Wed,Thu,Fri\n"
     ]
    }
   ],
   "source": [
    "days_of_week = \"Mon,Tue,Wed,Thu,Fri\"\n",
    "\n",
    "print(days_of_week)"
   ]
  },
  {
   "cell_type": "code",
   "execution_count": 2,
   "id": "20d62897",
   "metadata": {
    "ExecuteTime": {
     "end_time": "2025-02-21T03:09:05.907012Z",
     "start_time": "2025-02-21T03:09:05.889536Z"
    }
   },
   "outputs": [
    {
     "name": "stdout",
     "output_type": "stream",
     "text": [
      "['Mon', 'Tue', 'Wed', 'Tue', 'Fri']\n"
     ]
    }
   ],
   "source": [
    "days_of_week = [\"Mon\", \"Tue\", \"Wed\", \"Tue\", \"Fri\"]\n",
    "print(days_of_week)"
   ]
  },
  {
   "cell_type": "code",
   "execution_count": 5,
   "id": "283e087c",
   "metadata": {
    "ExecuteTime": {
     "end_time": "2025-02-21T03:11:16.095664Z",
     "start_time": "2025-02-21T03:11:16.089028Z"
    }
   },
   "outputs": [
    {
     "name": "stdout",
     "output_type": "stream",
     "text": [
      "NICO\n",
      "Nico\n"
     ]
    }
   ],
   "source": [
    "# variable -> has many funtion\n",
    "name = \"nico\"\n",
    "print(name.upper())\n",
    "print(name.capitalize())"
   ]
  },
  {
   "cell_type": "code",
   "execution_count": 11,
   "id": "559f93a5",
   "metadata": {
    "ExecuteTime": {
     "end_time": "2025-02-21T03:14:35.174004Z",
     "start_time": "2025-02-21T03:14:35.158481Z"
    }
   },
   "outputs": [
    {
     "name": "stdout",
     "output_type": "stream",
     "text": [
      "True\n",
      "True\n"
     ]
    }
   ],
   "source": [
    "print(name.startswith(\"n\"))\n",
    "print(\"hello\".endswith(\"o\"))"
   ]
  },
  {
   "cell_type": "code",
   "execution_count": 8,
   "id": "46c652f2",
   "metadata": {
    "ExecuteTime": {
     "end_time": "2025-02-21T03:12:33.858045Z",
     "start_time": "2025-02-21T03:12:33.847342Z"
    }
   },
   "outputs": [
    {
     "name": "stdout",
     "output_type": "stream",
     "text": [
      "niccry\n"
     ]
    }
   ],
   "source": [
    "print(name.replace(\"o\",\"cry\"))"
   ]
  },
  {
   "cell_type": "code",
   "execution_count": 20,
   "id": "f5396ca8",
   "metadata": {
    "ExecuteTime": {
     "end_time": "2025-02-21T03:19:42.599090Z",
     "start_time": "2025-02-21T03:19:42.589999Z"
    }
   },
   "outputs": [
    {
     "name": "stdout",
     "output_type": "stream",
     "text": [
      "1\n",
      "['Fri', 'Thur', 'Wed', 'Tue', 'Mon']\n",
      "['Fri', 'Thur', 'Wed', 'Tue', 'Mon', 'Sat']\n",
      "['Thur', 'Wed', 'Tue', 'Mon', 'Sat']\n",
      "[]\n"
     ]
    }
   ],
   "source": [
    "days_of_week = [\"Mon\", \"Tue\", \"Wed\", \"Thur\", \"Fri\"]\n",
    "\n",
    "print(days_of_week.count(\"Wed\"))\n",
    "\n",
    "days_of_week.reverse()\n",
    "print(days_of_week)\n",
    "\n",
    "days_of_week.append(\"Sat\")\n",
    "print(days_of_week)\n",
    "\n",
    "days_of_week.remove(\"Fri\")\n",
    "print(days_of_week)\n",
    "\n",
    "days_of_week.clear()\n",
    "print(days_of_week)"
   ]
  },
  {
   "cell_type": "code",
   "execution_count": 21,
   "id": "36097ed3",
   "metadata": {
    "ExecuteTime": {
     "end_time": "2025-02-21T03:19:42.740040Z",
     "start_time": "2025-02-21T03:19:42.727540Z"
    }
   },
   "outputs": [
    {
     "name": "stdout",
     "output_type": "stream",
     "text": [
      "Thur\n"
     ]
    }
   ],
   "source": [
    "days_of_week = [\"Mon\", \"Tue\", \"Wed\", \"Thur\", \"Fri\"]\n",
    "print(days_of_week[3])"
   ]
  },
  {
   "cell_type": "code",
   "execution_count": 25,
   "id": "b9bb7358",
   "metadata": {
    "ExecuteTime": {
     "end_time": "2025-02-21T03:21:37.331466Z",
     "start_time": "2025-02-21T03:21:37.313423Z"
    }
   },
   "outputs": [
    {
     "data": {
      "text/plain": [
       "'Mon'"
      ]
     },
     "execution_count": 25,
     "metadata": {},
     "output_type": "execute_result"
    }
   ],
   "source": [
    "# Tuple -> CANNOT change\n",
    "days = (\"Mon\", \"Tue\", \"Wed\")\n",
    "days.count(\"Mon\")\n",
    "\n",
    "days[0]"
   ]
  },
  {
   "cell_type": "code",
   "execution_count": 36,
   "id": "3ab47e2c",
   "metadata": {
    "ExecuteTime": {
     "end_time": "2025-02-21T04:05:34.244684Z",
     "start_time": "2025-02-21T04:05:34.223619Z"
    }
   },
   "outputs": [
    {
     "name": "stdout",
     "output_type": "stream",
     "text": [
      "['pizza', 'hamburger']\n",
      "{'name': 'nico', 'age': 12, 'alive': True, 'fav_food': ['pizza', 'hamburger']}\n",
      "{'name': 'nico', 'alive': True, 'fav_food': ['pizza', 'hamburger']}\n"
     ]
    },
    {
     "data": {
      "text/plain": [
       "['pizza', 'hamburger', 'noodle']"
      ]
     },
     "execution_count": 36,
     "metadata": {},
     "output_type": "execute_result"
    }
   ],
   "source": [
    "# Dictionary\n",
    "player = {\n",
    "    'name': 'nico',\n",
    "    'age': 12,\n",
    "    'alive': True,\n",
    "    'fav_food': ['pizza', 'hamburger']\n",
    "}\n",
    "print(player.get('fav_food'))\n",
    "print(player)\n",
    "player.pop('age')\n",
    "print(player)\n",
    "player['fav_food'].append('noodle')\n",
    "player.get('fav_food')"
   ]
  },
  {
   "cell_type": "code",
   "execution_count": null,
   "id": "2e13a0d2",
   "metadata": {},
   "outputs": [],
   "source": []
  }
 ],
 "metadata": {
  "kernelspec": {
   "display_name": "Python 3 (ipykernel)",
   "language": "python",
   "name": "python3"
  },
  "language_info": {
   "codemirror_mode": {
    "name": "ipython",
    "version": 3
   },
   "file_extension": ".py",
   "mimetype": "text/x-python",
   "name": "python",
   "nbconvert_exporter": "python",
   "pygments_lexer": "ipython3",
   "version": "3.9.13"
  },
  "toc": {
   "base_numbering": 1,
   "nav_menu": {},
   "number_sections": true,
   "sideBar": true,
   "skip_h1_title": false,
   "title_cell": "Table of Contents",
   "title_sidebar": "Contents",
   "toc_cell": false,
   "toc_position": {},
   "toc_section_display": true,
   "toc_window_display": false
  },
  "varInspector": {
   "cols": {
    "lenName": 16,
    "lenType": 16,
    "lenVar": 40
   },
   "kernels_config": {
    "python": {
     "delete_cmd_postfix": "",
     "delete_cmd_prefix": "del ",
     "library": "var_list.py",
     "varRefreshCmd": "print(var_dic_list())"
    },
    "r": {
     "delete_cmd_postfix": ") ",
     "delete_cmd_prefix": "rm(",
     "library": "var_list.r",
     "varRefreshCmd": "cat(var_dic_list()) "
    }
   },
   "types_to_exclude": [
    "module",
    "function",
    "builtin_function_or_method",
    "instance",
    "_Feature"
   ],
   "window_display": false
  }
 },
 "nbformat": 4,
 "nbformat_minor": 5
}
