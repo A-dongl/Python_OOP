{
 "cells": [
  {
   "cell_type": "code",
   "execution_count": 8,
   "id": "3ab5eac1",
   "metadata": {
    "ExecuteTime": {
     "end_time": "2025-02-22T04:12:25.204720Z",
     "start_time": "2025-02-22T04:12:25.193559Z"
    }
   },
   "outputs": [
    {
     "name": "stdout",
     "output_type": "stream",
     "text": [
      "we have to fix it\n",
      "we have to fix it\n",
      "good to go\n",
      "we have to fix it\n",
      "good to go\n",
      "\n",
      "\n",
      "https://google.com\n",
      "https://airbnb.com\n",
      "https://twitter.com\n",
      "https://facebook.com\n",
      "https://tiktok.com\n"
     ]
    }
   ],
   "source": [
    "websites = (\n",
    "    \"google.com\",\n",
    "    \"airbnb.com\",\n",
    "    \"https://twitter.com\",\n",
    "    \"facebook.com\",\n",
    "    \"https://tiktok.com\"\n",
    ")\n",
    "\n",
    "for website in websites:\n",
    "    if website.startswith(\"https://\"):\n",
    "        print(\"good to go\")\n",
    "    else:\n",
    "        print(\"we have to fix it\")\n",
    "\n",
    "print('\\n')\n",
    "\n",
    "for website in websites:\n",
    "    if not website.startswith(\"https://\"):\n",
    "        website = f\"https://{website}\"\n",
    "    print(website)"
   ]
  },
  {
   "cell_type": "code",
   "execution_count": 19,
   "id": "ffe4900a",
   "metadata": {
    "ExecuteTime": {
     "end_time": "2025-02-22T04:24:17.007043Z",
     "start_time": "2025-02-22T04:24:13.856092Z"
    }
   },
   "outputs": [
    {
     "name": "stdout",
     "output_type": "stream",
     "text": [
      "{'https://google.com': 'OK', 'https://airbnb.com': 'FAILED', 'https://twitter.com': 'OK', 'https://facebook.com': 'OK', 'https://tiktok.com': 'OK'}\n"
     ]
    }
   ],
   "source": [
    "from requests import get\n",
    "\n",
    "websites = (\n",
    "    \"google.com\",\n",
    "    \"airbnb.com\",\n",
    "    \"https://twitter.com\",\n",
    "    \"facebook.com\",\n",
    "    \"https://tiktok.com\"\n",
    ")\n",
    "\n",
    "results = {}\n",
    "\n",
    "for website in websites:\n",
    "    if not website.startswith(\"https://\"):\n",
    "        website = f\"https://{website}\"\n",
    "    response = get(website)\n",
    "    if response.status_code == 200:\n",
    "        results[website] = \"OK\"\n",
    "    else:\n",
    "        results[website] = \"FAILED\"\n",
    "        \n",
    "print(results)"
   ]
  },
  {
   "cell_type": "code",
   "execution_count": 41,
   "id": "5c26dea5",
   "metadata": {
    "ExecuteTime": {
     "end_time": "2025-02-22T04:45:35.464009Z",
     "start_time": "2025-02-22T04:45:33.468813Z"
    }
   },
   "outputs": [
    {
     "name": "stdout",
     "output_type": "stream",
     "text": [
      "{'The Godfather': ('https://nomad-movies.nomadcoders.workers.dev/movies/238', 8.7, 'Spanning the years 1945 to 1955, a chronicle of the fictional Italian-American Corleone crime family. When organized crime family patriarch, Vito Corleone barely survives an attempt on his life, his youngest son, Michael steps in to take care of the would-be killers, launching a campaign of bloody revenge.'), 'Pulp Fiction': ('https://nomad-movies.nomadcoders.workers.dev/movies/680', 8.5, \"A burger-loving hit man, his philosophical partner, a drug-addled gangster's moll and a washed-up boxer converge in this sprawling, comedic crime caper. Their adventures unfurl in three stories that ingeniously trip back and forth in time.\"), 'Fight Club': ('https://nomad-movies.nomadcoders.workers.dev/movies/550', 8.438, 'A ticking-time-bomb insomniac and a slippery soap salesman channel primal male aggression into a shocking new form of therapy. Their concept catches on, with underground \"fight clubs\" forming in every town, until an eccentric gets in the way and ignites an out-of-control spiral toward oblivion.'), 'A Clockwork Orange': ('https://nomad-movies.nomadcoders.workers.dev/movies/185', 8.188, \"In a near-future Britain, young Alexander DeLarge and his pals get their kicks beating and raping anyone they please. When not destroying the lives of others, Alex swoons to the music of Beethoven. The state, eager to crack down on juvenile crime, gives an incarcerated Alex the option to undergo an invasive procedure that'll rob him of all personal agency. In a time when conscience is a commodity, can Alex change his tune?\"), 'Requiem for a Dream': ('https://nomad-movies.nomadcoders.workers.dev/movies/641', 8.016, 'The drug-induced utopias of four Coney Island residents are shattered when their addictions run deep.'), 'Free Solo': ('https://nomad-movies.nomadcoders.workers.dev/movies/515042', 7.9, \"Follow Alex Honnold as he attempts to become the first person to ever free solo climb Yosemite's 3,000 foot high El Capitan wall. With no ropes or safety gear, this would arguably be the greatest feat in rock climbing history.\"), 'Dallas Buyers Club': ('https://nomad-movies.nomadcoders.workers.dev/movies/152532', 7.924, 'Loosely based on the true-life tale of Ron Woodroof, a drug-taking, women-loving, homophobic man who in 1986 was diagnosed with HIV/AIDS and given thirty days to live.'), 'The Grand Budapest Hotel': ('https://nomad-movies.nomadcoders.workers.dev/movies/120467', 8, 'The Grand Budapest Hotel tells of a legendary concierge at a famous European hotel between the wars and his friendship with a young employee who becomes his trusted protégé. The story involves the theft and recovery of a priceless Renaissance painting, the battle for an enormous family fortune and the slow and then sudden upheavals that transformed Europe during the first half of the 20th century.'), 'Oppenheimer': ('https://nomad-movies.nomadcoders.workers.dev/movies/872585', 8.072, \"The story of J. Robert Oppenheimer's role in the development of the atomic bomb during World War II.\"), 'Society of the Snow': ('https://nomad-movies.nomadcoders.workers.dev/movies/906126', 8.003, 'On October 13, 1972, Uruguayan Air Force Flight 571, chartered to take a rugby team to Chile, crashes into a glacier in the heart of the Andes.'), 'The Holdovers': ('https://nomad-movies.nomadcoders.workers.dev/movies/840430', 7.686, 'A curmudgeonly instructor at a New England prep school is forced to remain on campus during Christmas break to babysit the handful of students with nowhere to go. Eventually, he forms an unlikely bond with one of them — a damaged, brainy troublemaker — and with the school’s head cook, who has just lost a son in Vietnam.')}\n"
     ]
    }
   ],
   "source": [
    "# BLUEPRINT | DONT EDIT\n",
    "\n",
    "import requests\n",
    "\n",
    "movie_ids = [\n",
    "    238, 680, 550, 185, 641, 515042, 152532, 120467, 872585, 906126, 840430\n",
    "]\n",
    "\n",
    "results = {}\n",
    "\n",
    "for movie_id in movie_ids:\n",
    "    movie_url = f\"https://nomad-movies.nomadcoders.workers.dev/movies/{movie_id}\"    \n",
    "    response = requests.get(movie_url)\n",
    "    data = response.json()\n",
    "    \n",
    "    results[data.get('title')] = (movie_url, data.get('vote_average'),  data.get('overview'))\n",
    "    #print(data.get('title'))\n",
    "    #print(data.get('overview'))\n",
    "    #print(data.get('vote_average'), \"\\n\")\n",
    "\n",
    "print(results)"
   ]
  },
  {
   "cell_type": "code",
   "execution_count": null,
   "id": "4565db92",
   "metadata": {},
   "outputs": [],
   "source": []
  }
 ],
 "metadata": {
  "kernelspec": {
   "display_name": "Python 3 (ipykernel)",
   "language": "python",
   "name": "python3"
  },
  "language_info": {
   "codemirror_mode": {
    "name": "ipython",
    "version": 3
   },
   "file_extension": ".py",
   "mimetype": "text/x-python",
   "name": "python",
   "nbconvert_exporter": "python",
   "pygments_lexer": "ipython3",
   "version": "3.9.13"
  },
  "toc": {
   "base_numbering": 1,
   "nav_menu": {},
   "number_sections": true,
   "sideBar": true,
   "skip_h1_title": false,
   "title_cell": "Table of Contents",
   "title_sidebar": "Contents",
   "toc_cell": false,
   "toc_position": {},
   "toc_section_display": true,
   "toc_window_display": false
  },
  "varInspector": {
   "cols": {
    "lenName": 16,
    "lenType": 16,
    "lenVar": 40
   },
   "kernels_config": {
    "python": {
     "delete_cmd_postfix": "",
     "delete_cmd_prefix": "del ",
     "library": "var_list.py",
     "varRefreshCmd": "print(var_dic_list())"
    },
    "r": {
     "delete_cmd_postfix": ") ",
     "delete_cmd_prefix": "rm(",
     "library": "var_list.r",
     "varRefreshCmd": "cat(var_dic_list()) "
    }
   },
   "types_to_exclude": [
    "module",
    "function",
    "builtin_function_or_method",
    "instance",
    "_Feature"
   ],
   "window_display": false
  }
 },
 "nbformat": 4,
 "nbformat_minor": 5
}
