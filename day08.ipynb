{
 "cells": [
  {
   "cell_type": "code",
   "execution_count": 1,
   "id": "52a7c380",
   "metadata": {
    "ExecuteTime": {
     "end_time": "2025-02-23T22:02:12.086128Z",
     "start_time": "2025-02-23T22:02:12.063077Z"
    }
   },
   "outputs": [],
   "source": [
    "# oop data structure\n",
    "\n",
    "nico = {\n",
    "    \"name\": \"Nico\",\n",
    "    \"XP\": 1000,\n",
    "    \"team\": \"Team X\"    \n",
    "}\n",
    "def creat_player_for_team(name, xp, team):\n",
    "    pass # never mind, keep going\n",
    "\n",
    "def creat_player(name, xp, team):\n",
    "    return {\n",
    "        \"name\": name,\n",
    "        \"XP\": xp,\n",
    "        \"team\": team    \n",
    "}\n",
    "\n",
    "def introduct_payer(player):\n",
    "    name = player[\"name\"]\n",
    "    team = player[\"team\"]\n",
    "    print(f\"Hello! My name is {name} and I play for {team}\")\n",
    "    \n",
    "nico = creat_player(\"Nico\", 1000, \"Team X\")"
   ]
  },
  {
   "cell_type": "code",
   "execution_count": 5,
   "id": "d849bc66",
   "metadata": {
    "ExecuteTime": {
     "end_time": "2025-02-23T22:09:26.574066Z",
     "start_time": "2025-02-23T22:09:26.556013Z"
    }
   },
   "outputs": [
    {
     "name": "stdout",
     "output_type": "stream",
     "text": [
      "Puppy is born!\n",
      "<__main__.Puppy object at 0x000001B22E8C49A0>\n"
     ]
    }
   ],
   "source": [
    "# class\n",
    "# method : function inside of Class\n",
    "\n",
    "class Puppy:\n",
    "    # default! first method's argument have to get \"self\"\n",
    "    def __init__(self):\n",
    "        print(\"Puppy is born!\")\n",
    "    \n",
    "ruffus = Puppy()\n",
    "\n",
    "print(ruffus)"
   ]
  },
  {
   "cell_type": "code",
   "execution_count": 6,
   "id": "935344ab",
   "metadata": {
    "ExecuteTime": {
     "end_time": "2025-02-23T22:10:09.746892Z",
     "start_time": "2025-02-23T22:10:09.735404Z"
    }
   },
   "outputs": [
    {
     "name": "stdout",
     "output_type": "stream",
     "text": [
      "<__main__.Puppy object at 0x000001B22E83FF10>\n",
      "Puppy is born!\n"
     ]
    }
   ],
   "source": [
    "class Puppy:\n",
    "    def __init__(self):\n",
    "        print(self)\n",
    "        print(\"Puppy is born!\")\n",
    "    \n",
    "ruffus = Puppy()"
   ]
  },
  {
   "cell_type": "code",
   "execution_count": 7,
   "id": "482fbc4a",
   "metadata": {
    "ExecuteTime": {
     "end_time": "2025-02-23T22:10:55.417346Z",
     "start_time": "2025-02-23T22:10:55.408623Z"
    }
   },
   "outputs": [
    {
     "name": "stdout",
     "output_type": "stream",
     "text": [
      "<__main__.Puppy object at 0x000001B22B3A5A60>\n",
      "Puppy is born!\n",
      "<__main__.Puppy object at 0x000001B22B3A5A60>\n"
     ]
    }
   ],
   "source": [
    "# 모든 첫 메소드는 본인을 참조\n",
    "class Puppy:\n",
    "    def __init__(self):\n",
    "        print(self)\n",
    "        print(\"Puppy is born!\")\n",
    "    \n",
    "ruffus = Puppy()\n",
    "\n",
    "print(ruffus)"
   ]
  },
  {
   "cell_type": "code",
   "execution_count": 9,
   "id": "63ef6903",
   "metadata": {
    "ExecuteTime": {
     "end_time": "2025-02-23T22:14:24.903445Z",
     "start_time": "2025-02-23T22:14:24.881914Z"
    }
   },
   "outputs": [
    {
     "name": "stdout",
     "output_type": "stream",
     "text": [
      "Ruffus 0.1 beagle\n"
     ]
    }
   ],
   "source": [
    "class Puppy:\n",
    "    def __init__(self):\n",
    "        self.name = \"Ruffus\"\n",
    "        self.age = 0.1\n",
    "        self.breed = \"beagle\"\n",
    "    \n",
    "ruffus = Puppy()\n",
    "\n",
    "print(ruffus.name, ruffus.age, ruffus.breed)"
   ]
  },
  {
   "cell_type": "code",
   "execution_count": 14,
   "id": "87fb8ff2",
   "metadata": {
    "ExecuteTime": {
     "end_time": "2025-02-23T22:21:47.846574Z",
     "start_time": "2025-02-23T22:21:47.836556Z"
    }
   },
   "outputs": [
    {
     "name": "stdout",
     "output_type": "stream",
     "text": [
      "Bibi Ruffus\n",
      "Puppy named Bibi, breed: Dalmatian.\n",
      " Puppy named Ruffus, breed: Beagle.\n",
      "\n"
     ]
    }
   ],
   "source": [
    "class Puppy:\n",
    "    def __init__(self, name, breed):\n",
    "        self.name = name\n",
    "        self.age = 0.1\n",
    "        self.breed = breed\n",
    "        \n",
    "    def __str__(self):\n",
    "        return f\"Puppy named {self.name}, breed: {self.breed}.\\n\"\n",
    "\n",
    "#instance(=object)\n",
    "ruffus = Puppy(\n",
    "    name = \"Ruffus\",\n",
    "    breed = \"Beagle\")\n",
    "bibi = Puppy(\n",
    "    name = \"Bibi\",\n",
    "    breed = \"Dalmatian\")\n",
    "\n",
    "print(\n",
    "    bibi.name,\n",
    "    ruffus.name\n",
    ")\n",
    "\n",
    "# str 출력\n",
    "print(\n",
    "    bibi,\n",
    "    ruffus\n",
    ")"
   ]
  },
  {
   "cell_type": "code",
   "execution_count": 16,
   "id": "9288f2f3",
   "metadata": {
    "ExecuteTime": {
     "end_time": "2025-02-23T22:28:36.057023Z",
     "start_time": "2025-02-23T22:28:36.036896Z"
    }
   },
   "outputs": [
    {
     "name": "stdout",
     "output_type": "stream",
     "text": [
      "WOOF!\n",
      "My name is Bibi and I am a baby Dalmatian!\n",
      "WOOF!\n",
      "WOOF!\n",
      "My name is Ruffus and I am a baby Beagle!\n",
      "WOOF!\n"
     ]
    }
   ],
   "source": [
    "class Dog:\n",
    "    \n",
    "    def __init__(self, name, breed, age):\n",
    "        self.name = name\n",
    "        self.breed = breed\n",
    "        self.age = age\n",
    "\n",
    "\n",
    "class GaurdDog(Dog):\n",
    "    \n",
    "    def __init__(self, name, breed, age):\n",
    "        self.name = name\n",
    "        self.breed = breed\n",
    "        self.age = 5\n",
    "        \n",
    "    def rrrrr(self):\n",
    "        print(\"stay away!\")\n",
    "\n",
    "class Puppy:\n",
    "    \n",
    "    def __init__(self, name, breed):\n",
    "        self.name = name\n",
    "        self.age = 0.1\n",
    "        self.breed = breed\n",
    "        \n",
    "    def __str__(self):\n",
    "        return f\"Puppy named {self.name}, breed: {self.breed}.\\n\"\n",
    "    \n",
    "    def woof_woof(self):\n",
    "        print(\"WOOF!\")\n",
    "        \n",
    "    def introduce(self):\n",
    "        self.woof_woof()\n",
    "        print(f\"My name is {self.name} and I am a baby {self.breed}!\")\n",
    "        self.woof_woof()\n",
    "\n",
    "#instance(=object)\n",
    "ruffus = Puppy(\n",
    "    name = \"Ruffus\",\n",
    "    breed = \"Beagle\")\n",
    "bibi = Puppy(\n",
    "    name = \"Bibi\",\n",
    "    breed = \"Dalmatian\")\n",
    "\n",
    "bibi.introduce()\n",
    "ruffus.introduce()"
   ]
  },
  {
   "cell_type": "code",
   "execution_count": 26,
   "id": "bbd0a37c",
   "metadata": {
    "ExecuteTime": {
     "end_time": "2025-02-23T22:46:06.681048Z",
     "start_time": "2025-02-23T22:46:06.672432Z"
    }
   },
   "outputs": [
    {
     "name": "stdout",
     "output_type": "stream",
     "text": [
      "WOOF!\n",
      "stay away!\n",
      "zzzzzzzzzzz......\n",
      "False True\n"
     ]
    }
   ],
   "source": [
    "# inheritance => we don't need repeate\n",
    "# same link..\n",
    "class Dog:\n",
    "    \n",
    "    def __init__(self, name, breed, age):\n",
    "        self.name = name\n",
    "        self.breed = breed\n",
    "        self.age = age\n",
    "        \n",
    "    def sleep(self):\n",
    "        print(\"zzzzzzzzzzz......\")\n",
    "\n",
    "\n",
    "class GuardDog(Dog):\n",
    "    \n",
    "    def __init__(self, name, breed):\n",
    "        super().__init__(\n",
    "            name,\n",
    "            breed,\n",
    "            5\n",
    "        )\n",
    "        self.aggresive = True\n",
    "    \n",
    "    def rrrrr(self):\n",
    "        print(\"stay away!\")\n",
    "        \n",
    "class Puppy(Dog):\n",
    "    \n",
    "    def __init__(self, name, breed):\n",
    "        super().__init__(\n",
    "            name,\n",
    "            breed,\n",
    "            0.1\n",
    "        )\n",
    "        self.aggresive = False\n",
    "    \n",
    "    def woof_woof(self):\n",
    "        print(\"WOOF!\")\n",
    "        \n",
    "ruffus = Puppy(\n",
    "    name = \"Ruffus\",\n",
    "    breed = \"Beagle\"\n",
    ")\n",
    "bibi = GuardDog(\n",
    "    name = \"Bibi\",\n",
    "    breed = \"Dalmatian\"\n",
    ")\n",
    "\n",
    "ruffus.woof_woof()\n",
    "bibi.rrrrr()\n",
    "\n",
    "ruffus.sleep()\n",
    "\n",
    "print(ruffus.aggresive, bibi.aggresive)\n"
   ]
  },
  {
   "cell_type": "code",
   "execution_count": null,
   "id": "c954adcb",
   "metadata": {},
   "outputs": [],
   "source": []
  }
 ],
 "metadata": {
  "kernelspec": {
   "display_name": "Python 3 (ipykernel)",
   "language": "python",
   "name": "python3"
  },
  "language_info": {
   "codemirror_mode": {
    "name": "ipython",
    "version": 3
   },
   "file_extension": ".py",
   "mimetype": "text/x-python",
   "name": "python",
   "nbconvert_exporter": "python",
   "pygments_lexer": "ipython3",
   "version": "3.9.13"
  },
  "toc": {
   "base_numbering": 1,
   "nav_menu": {},
   "number_sections": true,
   "sideBar": true,
   "skip_h1_title": false,
   "title_cell": "Table of Contents",
   "title_sidebar": "Contents",
   "toc_cell": false,
   "toc_position": {},
   "toc_section_display": true,
   "toc_window_display": false
  },
  "varInspector": {
   "cols": {
    "lenName": 16,
    "lenType": 16,
    "lenVar": 40
   },
   "kernels_config": {
    "python": {
     "delete_cmd_postfix": "",
     "delete_cmd_prefix": "del ",
     "library": "var_list.py",
     "varRefreshCmd": "print(var_dic_list())"
    },
    "r": {
     "delete_cmd_postfix": ") ",
     "delete_cmd_prefix": "rm(",
     "library": "var_list.r",
     "varRefreshCmd": "cat(var_dic_list()) "
    }
   },
   "types_to_exclude": [
    "module",
    "function",
    "builtin_function_or_method",
    "instance",
    "_Feature"
   ],
   "window_display": false
  }
 },
 "nbformat": 4,
 "nbformat_minor": 5
}
